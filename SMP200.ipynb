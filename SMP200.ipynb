{
  "nbformat": 4,
  "nbformat_minor": 0,
  "metadata": {
    "colab": {
      "name": "SMP.ipynb",
      "provenance": [],
      "collapsed_sections": [],
      "authorship_tag": "ABX9TyMSgqL+SXHo0nCotdHo7heQ",
      "include_colab_link": true
    },
    "kernelspec": {
      "name": "python3",
      "display_name": "Python 3"
    }
  },
  "cells": [
    {
      "cell_type": "markdown",
      "metadata": {
        "id": "view-in-github",
        "colab_type": "text"
      },
      "source": [
        "<a href=\"https://colab.research.google.com/github/SamiEzz/utilities/blob/master/SMP200.ipynb\" target=\"_parent\"><img src=\"https://colab.research.google.com/assets/colab-badge.svg\" alt=\"Open In Colab\"/></a>"
      ]
    },
    {
      "cell_type": "markdown",
      "metadata": {
        "id": "hkbtw46ygwrS",
        "colab_type": "text"
      },
      "source": [
        "# Simulation \n",
        "### Share Match Plan\n",
        "calcul du gain genere par le Share Match Plan pendant 2 ans"
      ]
    },
    {
      "cell_type": "code",
      "metadata": {
        "id": "sO3hMi0_j1TZ",
        "colab_type": "code",
        "colab": {}
      },
      "source": [
        "# Inputs\n",
        "\n",
        "montantParMois = 200\n",
        "nbMois = 24"
      ],
      "execution_count": 0,
      "outputs": []
    },
    {
      "cell_type": "code",
      "metadata": {
        "id": "DtRkLaMqg539",
        "colab_type": "code",
        "colab": {}
      },
      "source": [
        "import matplotlib.pyplot as plt\n",
        "import numpy as np\n",
        "from random import randrange\n",
        "#####################\n",
        "#    Functions      #\n",
        "#####################\n",
        "\n",
        "def getY(x):\n",
        "    y = []\n",
        "    entryValue = 37\n",
        "    randRg = 15\n",
        "    xOffset1 = 8\n",
        "    xOffset2 = 16\n",
        "    xOffset3 = 24\n",
        "    yMultip1 = 0.8\n",
        "    yMultip2 = 0.5\n",
        "    yMultip3 = 0.4\n",
        "    yMultip4 = 0.5\n",
        "    for i in range(len(x)):\n",
        "        if(x[i] < xOffset1):\n",
        "            y.append(entryValue*yMultip1*(1+randrange(-randRg, randRg)*0.01))\n",
        "        elif(xOffset1 <= x[i] and x[i] < xOffset2):\n",
        "            y.append(entryValue*yMultip2*(1+randrange(-randRg, randRg)*0.01))\n",
        "        elif(xOffset2 <= x[i] and x[i] < xOffset3):\n",
        "            y.append(entryValue*yMultip3*(1+randrange(-randRg, randRg)*0.01))\n",
        "        else:\n",
        "            y.append(entryValue*yMultip4*(1+randrange(-randRg, randRg)*0.01))\n",
        "    return y\n",
        "\n",
        "def calculateStock(y, entrySum):\n",
        "    stock = 0\n",
        "    nbOfActions = 0\n",
        "    for elem in y:\n",
        "        prime = entrySum/(elem*2)\n",
        "        nbOfActions += entrySum/elem + prime\n",
        "    stock = nbOfActions*y[-1]\n",
        "    return stock"
      ],
      "execution_count": 0,
      "outputs": []
    },
    {
      "cell_type": "code",
      "metadata": {
        "id": "wmvlSMo1pN6J",
        "colab_type": "code",
        "colab": {}
      },
      "source": [
        ""
      ],
      "execution_count": 0,
      "outputs": []
    },
    {
      "cell_type": "code",
      "metadata": {
        "id": "HMqs50SjhITZ",
        "colab_type": "code",
        "colab": {}
      },
      "source": [
        "\n",
        "#####################\n",
        "#  prepare vectors  #\n",
        "#####################\n",
        "\n",
        "x = np.linspace(1, nbMois, nbMois)\n",
        "y = getY(x)\n",
        "stock = calculateStock(y, montantParMois)\n"
      ],
      "execution_count": 0,
      "outputs": []
    },
    {
      "cell_type": "markdown",
      "metadata": {
        "id": "EXKv7BOlhnVs",
        "colab_type": "text"
      },
      "source": [
        "# Cours d'actions AMS\n",
        "La fonction d'evolution du cours d'action d'amadeus pendant les 2 prochaines annees par mois :\n"
      ]
    },
    {
      "cell_type": "code",
      "metadata": {
        "id": "olhR89MVhux5",
        "colab_type": "code",
        "outputId": "996eb8ec-e9ca-480c-d7c7-62ad6e4525ef",
        "colab": {
          "base_uri": "https://localhost:8080/",
          "height": 265
        }
      },
      "source": [
        "\n",
        "#####################\n",
        "#       Plot        #\n",
        "#####################\n",
        "plt.plot(x, y)\n",
        "plt.show()"
      ],
      "execution_count": 34,
      "outputs": [
        {
          "output_type": "display_data",
          "data": {
            "image/png": "[encoded data removed]",
            "text/plain": [
              "<Figure size 432x288 with 1 Axes>"
            ]
          },
          "metadata": {
            "tags": [],
            "needs_background": "light"
          }
        }
      ]
    },
    {
      "cell_type": "markdown",
      "metadata": {
        "id": "znF1X7_zh0qi",
        "colab_type": "text"
      },
      "source": [
        "Gain generer :"
      ]
    },
    {
      "cell_type": "code",
      "metadata": {
        "id": "N2lR8qxMhOI3",
        "colab_type": "code",
        "outputId": "65b9c8e3-b100-4c69-debc-96416fda197f",
        "colab": {
          "base_uri": "https://localhost:8080/",
          "height": 68
        }
      },
      "source": [
        "\n",
        "print(\"Montant investit : \"+str(montantParMois*12))\n",
        "print(\"Gains net : \"+str(stock-montantParMois*12))\n",
        "print(\"Total apres \"+str(nbMois/12)+\" ans :\"+str(stock))"
      ],
      "execution_count": 35,
      "outputs": [
        {
          "output_type": "stream",
          "text": [
            "Montant investit : 2400\n",
            "Gains net : 4179.772279902058\n",
            "Total apres 2.0 ans :6579.772279902058\n"
          ],
          "name": "stdout"
        }
      ]
    }
  ]
}